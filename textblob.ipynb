{
 "cells": [
  {
   "cell_type": "code",
   "execution_count": 1,
   "id": "ecece281",
   "metadata": {},
   "outputs": [
    {
     "data": {
      "text/html": [
       "<div>\n",
       "<style scoped>\n",
       "    .dataframe tbody tr th:only-of-type {\n",
       "        vertical-align: middle;\n",
       "    }\n",
       "\n",
       "    .dataframe tbody tr th {\n",
       "        vertical-align: top;\n",
       "    }\n",
       "\n",
       "    .dataframe thead th {\n",
       "        text-align: right;\n",
       "    }\n",
       "</style>\n",
       "<table border=\"1\" class=\"dataframe\">\n",
       "  <thead>\n",
       "    <tr style=\"text-align: right;\">\n",
       "      <th></th>\n",
       "      <th>Date</th>\n",
       "      <th>User</th>\n",
       "      <th>Tweet</th>\n",
       "      <th>clean_text</th>\n",
       "    </tr>\n",
       "  </thead>\n",
       "  <tbody>\n",
       "    <tr>\n",
       "      <th>0</th>\n",
       "      <td>2022-11-02 23:57:58</td>\n",
       "      <td>ColdPieceCITY</td>\n",
       "      <td>RT @ColdPieceCITY: Steph = Mount Rushmore ?\\n#...</td>\n",
       "      <td>steph mount rushmore</td>\n",
       "    </tr>\n",
       "    <tr>\n",
       "      <th>1</th>\n",
       "      <td>2022-11-02 23:56:40</td>\n",
       "      <td>HermanKosta</td>\n",
       "      <td>RT @warriors: #DubNation, just a reminder that...</td>\n",
       "      <td>reminder text warrior get ready vote</td>\n",
       "    </tr>\n",
       "    <tr>\n",
       "      <th>2</th>\n",
       "      <td>2022-11-02 23:56:28</td>\n",
       "      <td>ColdPieceCITY</td>\n",
       "      <td>RT @ColdPieceCITY: - Led Warriors to their fir...</td>\n",
       "      <td>lead warrior first championship year lead warr...</td>\n",
       "    </tr>\n",
       "    <tr>\n",
       "      <th>3</th>\n",
       "      <td>2022-11-02 23:55:59</td>\n",
       "      <td>Sethoole</td>\n",
       "      <td>RT @warriors_bra: 🏀 GOLDEN STATE WARRIORS | 20...</td>\n",
       "      <td>golden state warrior</td>\n",
       "    </tr>\n",
       "    <tr>\n",
       "      <th>4</th>\n",
       "      <td>2022-11-02 23:54:23</td>\n",
       "      <td>TravelingBeee</td>\n",
       "      <td>RT @TravelingBeee: We ok with Green leaving? #...</td>\n",
       "      <td>ok green leave</td>\n",
       "    </tr>\n",
       "  </tbody>\n",
       "</table>\n",
       "</div>"
      ],
      "text/plain": [
       "                 Date           User  \\\n",
       "0 2022-11-02 23:57:58  ColdPieceCITY   \n",
       "1 2022-11-02 23:56:40    HermanKosta   \n",
       "2 2022-11-02 23:56:28  ColdPieceCITY   \n",
       "3 2022-11-02 23:55:59       Sethoole   \n",
       "4 2022-11-02 23:54:23  TravelingBeee   \n",
       "\n",
       "                                               Tweet  \\\n",
       "0  RT @ColdPieceCITY: Steph = Mount Rushmore ?\\n#...   \n",
       "1  RT @warriors: #DubNation, just a reminder that...   \n",
       "2  RT @ColdPieceCITY: - Led Warriors to their fir...   \n",
       "3  RT @warriors_bra: 🏀 GOLDEN STATE WARRIORS | 20...   \n",
       "4  RT @TravelingBeee: We ok with Green leaving? #...   \n",
       "\n",
       "                                          clean_text  \n",
       "0                               steph mount rushmore  \n",
       "1               reminder text warrior get ready vote  \n",
       "2  lead warrior first championship year lead warr...  \n",
       "3                               golden state warrior  \n",
       "4                                     ok green leave  "
      ]
     },
     "execution_count": 1,
     "metadata": {},
     "output_type": "execute_result"
    }
   ],
   "source": [
    "import pandas as pd\n",
    "\n",
    "df = pd.read_json('DubNation_2022_11_03_10ktweet_cleaned.json')\n",
    "df.head()"
   ]
  },
  {
   "cell_type": "code",
   "execution_count": 2,
   "id": "19a4592f",
   "metadata": {},
   "outputs": [
    {
     "data": {
      "text/html": [
       "<div>\n",
       "<style scoped>\n",
       "    .dataframe tbody tr th:only-of-type {\n",
       "        vertical-align: middle;\n",
       "    }\n",
       "\n",
       "    .dataframe tbody tr th {\n",
       "        vertical-align: top;\n",
       "    }\n",
       "\n",
       "    .dataframe thead th {\n",
       "        text-align: right;\n",
       "    }\n",
       "</style>\n",
       "<table border=\"1\" class=\"dataframe\">\n",
       "  <thead>\n",
       "    <tr style=\"text-align: right;\">\n",
       "      <th></th>\n",
       "      <th>Date</th>\n",
       "      <th>User</th>\n",
       "      <th>Tweet</th>\n",
       "      <th>clean_text</th>\n",
       "      <th>polarity</th>\n",
       "      <th>subjectivity</th>\n",
       "    </tr>\n",
       "  </thead>\n",
       "  <tbody>\n",
       "    <tr>\n",
       "      <th>0</th>\n",
       "      <td>2022-11-02 23:57:58</td>\n",
       "      <td>ColdPieceCITY</td>\n",
       "      <td>RT @ColdPieceCITY: Steph = Mount Rushmore ?\\n#...</td>\n",
       "      <td>steph mount rushmore</td>\n",
       "      <td>0.000000</td>\n",
       "      <td>0.000000</td>\n",
       "    </tr>\n",
       "    <tr>\n",
       "      <th>1</th>\n",
       "      <td>2022-11-02 23:56:40</td>\n",
       "      <td>HermanKosta</td>\n",
       "      <td>RT @warriors: #DubNation, just a reminder that...</td>\n",
       "      <td>reminder text warrior get ready vote</td>\n",
       "      <td>0.200000</td>\n",
       "      <td>0.500000</td>\n",
       "    </tr>\n",
       "    <tr>\n",
       "      <th>2</th>\n",
       "      <td>2022-11-02 23:56:28</td>\n",
       "      <td>ColdPieceCITY</td>\n",
       "      <td>RT @ColdPieceCITY: - Led Warriors to their fir...</td>\n",
       "      <td>lead warrior first championship year lead warr...</td>\n",
       "      <td>0.416667</td>\n",
       "      <td>0.236752</td>\n",
       "    </tr>\n",
       "    <tr>\n",
       "      <th>3</th>\n",
       "      <td>2022-11-02 23:55:59</td>\n",
       "      <td>Sethoole</td>\n",
       "      <td>RT @warriors_bra: 🏀 GOLDEN STATE WARRIORS | 20...</td>\n",
       "      <td>golden state warrior</td>\n",
       "      <td>0.300000</td>\n",
       "      <td>0.500000</td>\n",
       "    </tr>\n",
       "    <tr>\n",
       "      <th>4</th>\n",
       "      <td>2022-11-02 23:54:23</td>\n",
       "      <td>TravelingBeee</td>\n",
       "      <td>RT @TravelingBeee: We ok with Green leaving? #...</td>\n",
       "      <td>ok green leave</td>\n",
       "      <td>0.150000</td>\n",
       "      <td>0.400000</td>\n",
       "    </tr>\n",
       "    <tr>\n",
       "      <th>...</th>\n",
       "      <td>...</td>\n",
       "      <td>...</td>\n",
       "      <td>...</td>\n",
       "      <td>...</td>\n",
       "      <td>...</td>\n",
       "      <td>...</td>\n",
       "    </tr>\n",
       "    <tr>\n",
       "      <th>9995</th>\n",
       "      <td>2022-10-28 03:57:53</td>\n",
       "      <td>WarriorsGameDay</td>\n",
       "      <td>RT @GigiSibale: Jamychal Green. What an additi...</td>\n",
       "      <td>jamychal green addition</td>\n",
       "      <td>-0.200000</td>\n",
       "      <td>0.300000</td>\n",
       "    </tr>\n",
       "    <tr>\n",
       "      <th>9996</th>\n",
       "      <td>2022-10-28 03:57:53</td>\n",
       "      <td>OnBallSteph</td>\n",
       "      <td>RT @KylenMills: Big minutes for JaMychal Green...</td>\n",
       "      <td>big minute jamychal green look good playing so...</td>\n",
       "      <td>0.050000</td>\n",
       "      <td>0.292857</td>\n",
       "    </tr>\n",
       "    <tr>\n",
       "      <th>9997</th>\n",
       "      <td>2022-10-28 03:57:47</td>\n",
       "      <td>SSBrandon</td>\n",
       "      <td>Dead Poole wanting to co-opt a lead role &amp;amp;...</td>\n",
       "      <td>dead poole want co opt lead role amp wiggins t...</td>\n",
       "      <td>-0.025000</td>\n",
       "      <td>0.350000</td>\n",
       "    </tr>\n",
       "    <tr>\n",
       "      <th>9998</th>\n",
       "      <td>2022-10-28 03:57:47</td>\n",
       "      <td>WarriorsGameDay</td>\n",
       "      <td>RT @saucypeeps: I’m ok with this Ty Jerome kid...</td>\n",
       "      <td>ok ty jerome kid</td>\n",
       "      <td>0.500000</td>\n",
       "      <td>0.500000</td>\n",
       "    </tr>\n",
       "    <tr>\n",
       "      <th>9999</th>\n",
       "      <td>2022-10-28 03:57:37</td>\n",
       "      <td>Derek01913852</td>\n",
       "      <td>Warriors getting in their own way.  Turnovers ...</td>\n",
       "      <td>warrior get way turnover bad pass</td>\n",
       "      <td>-0.700000</td>\n",
       "      <td>0.666667</td>\n",
       "    </tr>\n",
       "  </tbody>\n",
       "</table>\n",
       "<p>10000 rows × 6 columns</p>\n",
       "</div>"
      ],
      "text/plain": [
       "                    Date             User  \\\n",
       "0    2022-11-02 23:57:58    ColdPieceCITY   \n",
       "1    2022-11-02 23:56:40      HermanKosta   \n",
       "2    2022-11-02 23:56:28    ColdPieceCITY   \n",
       "3    2022-11-02 23:55:59         Sethoole   \n",
       "4    2022-11-02 23:54:23    TravelingBeee   \n",
       "...                  ...              ...   \n",
       "9995 2022-10-28 03:57:53  WarriorsGameDay   \n",
       "9996 2022-10-28 03:57:53      OnBallSteph   \n",
       "9997 2022-10-28 03:57:47        SSBrandon   \n",
       "9998 2022-10-28 03:57:47  WarriorsGameDay   \n",
       "9999 2022-10-28 03:57:37    Derek01913852   \n",
       "\n",
       "                                                  Tweet  \\\n",
       "0     RT @ColdPieceCITY: Steph = Mount Rushmore ?\\n#...   \n",
       "1     RT @warriors: #DubNation, just a reminder that...   \n",
       "2     RT @ColdPieceCITY: - Led Warriors to their fir...   \n",
       "3     RT @warriors_bra: 🏀 GOLDEN STATE WARRIORS | 20...   \n",
       "4     RT @TravelingBeee: We ok with Green leaving? #...   \n",
       "...                                                 ...   \n",
       "9995  RT @GigiSibale: Jamychal Green. What an additi...   \n",
       "9996  RT @KylenMills: Big minutes for JaMychal Green...   \n",
       "9997  Dead Poole wanting to co-opt a lead role &amp;...   \n",
       "9998  RT @saucypeeps: I’m ok with this Ty Jerome kid...   \n",
       "9999  Warriors getting in their own way.  Turnovers ...   \n",
       "\n",
       "                                             clean_text  polarity  \\\n",
       "0                                  steph mount rushmore  0.000000   \n",
       "1                  reminder text warrior get ready vote  0.200000   \n",
       "2     lead warrior first championship year lead warr...  0.416667   \n",
       "3                                  golden state warrior  0.300000   \n",
       "4                                        ok green leave  0.150000   \n",
       "...                                                 ...       ...   \n",
       "9995                            jamychal green addition -0.200000   \n",
       "9996  big minute jamychal green look good playing so...  0.050000   \n",
       "9997  dead poole want co opt lead role amp wiggins t... -0.025000   \n",
       "9998                                   ok ty jerome kid  0.500000   \n",
       "9999                  warrior get way turnover bad pass -0.700000   \n",
       "\n",
       "      subjectivity  \n",
       "0         0.000000  \n",
       "1         0.500000  \n",
       "2         0.236752  \n",
       "3         0.500000  \n",
       "4         0.400000  \n",
       "...            ...  \n",
       "9995      0.300000  \n",
       "9996      0.292857  \n",
       "9997      0.350000  \n",
       "9998      0.500000  \n",
       "9999      0.666667  \n",
       "\n",
       "[10000 rows x 6 columns]"
      ]
     },
     "execution_count": 2,
     "metadata": {},
     "output_type": "execute_result"
    }
   ],
   "source": [
    "import numpy as np\n",
    "from textblob import TextBlob\n",
    "\n",
    "pol = lambda x: TextBlob(x).sentiment.polarity\n",
    "sub = lambda x: TextBlob(x).sentiment.subjectivity\n",
    "\n",
    "df['polarity'] = df['clean_text'].apply(pol)\n",
    "df['subjectivity'] = df['clean_text'].apply(sub)\n",
    "df"
   ]
  },
  {
   "cell_type": "code",
   "execution_count": 3,
   "id": "1e2520b5",
   "metadata": {},
   "outputs": [],
   "source": [
    "import numpy as np\n",
    "\n",
    "df[\"sentiment_score\"] = df[\"Tweet\"].apply(lambda x: TextBlob(str(x)).sentiment.polarity)\n",
    "df[\"sentiment\"] = np.select([df[\"sentiment_score\"] < 0, df[\"sentiment_score\"] == 0, df[\"sentiment_score\"] > 0],\n",
    "                           ['negative', 'neutral', 'positive'])"
   ]
  },
  {
   "cell_type": "code",
   "execution_count": 4,
   "id": "9fe10d36",
   "metadata": {},
   "outputs": [
    {
     "name": "stdout",
     "output_type": "stream",
     "text": [
      "Pozitív hangulatú mondatok száma:  3606\n",
      "Negatív hangulatú mondatok száma:  2057\n",
      "Neutrális hangulatú mondatok száma:  4337\n"
     ]
    }
   ],
   "source": [
    "positive = df[df['sentiment'] == 'positive'].shape[0]\n",
    "negative = df[df['sentiment'] == 'negative'].shape[0]\n",
    "neutral = df[df['sentiment'] == 'neutral'].shape[0]\n",
    "\n",
    "print('Pozitív hangulatú mondatok száma: ', positive)\n",
    "print('Negatív hangulatú mondatok száma: ', negative)\n",
    "print('Neutrális hangulatú mondatok száma: ', neutral)"
   ]
  },
  {
   "cell_type": "code",
   "execution_count": 5,
   "id": "22126fed",
   "metadata": {},
   "outputs": [
    {
     "data": {
      "image/png": "[encoded data removed]",
      "text/plain": [
       "<Figure size 432x288 with 1 Axes>"
      ]
     },
     "metadata": {},
     "output_type": "display_data"
    }
   ],
   "source": [
    "import matplotlib.pyplot as plt\n",
    "\n",
    "ratings = ['positive', 'negative', 'neutral']\n",
    "slices = [positive, negative, neutral]\n",
    "colors = ['green', 'red', 'yellow']\n",
    "\n",
    "plt.pie(slices, labels=ratings, colors=colors, shadow=True, autopct='%1.1f%%')\n",
    "plt.legend(loc='lower left')\n",
    "plt.show()"
   ]
  },
  {
   "cell_type": "code",
   "execution_count": 6,
   "id": "e5126785",
   "metadata": {},
   "outputs": [
    {
     "data": {
      "image/png": "[encoded data removed]",
      "text/plain": [
       "<Figure size 432x288 with 1 Axes>"
      ]
     },
     "metadata": {
      "needs_background": "light"
     },
     "output_type": "display_data"
    }
   ],
   "source": [
    "plt.bar([1, 2, 3], [positive, neutral, negative], tick_label = ['Positive', 'Neutral', 'Negative'], width=0.5, color=['green', 'yellow', 'red'])\n",
    "plt.title('TextBlob: Értékelések hangulatának eloszlása')\n",
    "plt.show()"
   ]
  },
  {
   "cell_type": "code",
   "execution_count": 7,
   "id": "13b1f394",
   "metadata": {},
   "outputs": [
    {
     "name": "stdout",
     "output_type": "stream",
     "text": [
      "Pozitív hangulatú mondatok száma:  3606\n",
      "Negatív hangulatú mondatok száma:  2057\n"
     ]
    }
   ],
   "source": [
    "positive = df[df['sentiment'] == 'positive'].shape[0]\n",
    "negative = df[df['sentiment'] == 'negative'].shape[0]\n",
    "\n",
    "print('Pozitív hangulatú mondatok száma: ', positive)\n",
    "print('Negatív hangulatú mondatok száma: ', negative)"
   ]
  },
  {
   "cell_type": "code",
   "execution_count": 8,
   "id": "edf02e09",
   "metadata": {},
   "outputs": [
    {
     "data": {
      "image/png": "[encoded data removed]",
      "text/plain": [
       "<Figure size 432x288 with 1 Axes>"
      ]
     },
     "metadata": {},
     "output_type": "display_data"
    }
   ],
   "source": [
    "ratings = ['positive', 'negative']\n",
    "slices = [positive, negative]\n",
    "colors = ['green', 'red']\n",
    "\n",
    "plt.pie(slices, labels=ratings, colors=colors, shadow=True, autopct='%1.1f%%')\n",
    "plt.legend(loc='lower left')\n",
    "plt.show()"
   ]
  },
  {
   "cell_type": "code",
   "execution_count": 9,
   "id": "c2336e87",
   "metadata": {},
   "outputs": [
    {
     "data": {
      "image/png": "[encoded data removed]",
      "text/plain": [
       "<Figure size 432x288 with 1 Axes>"
      ]
     },
     "metadata": {
      "needs_background": "light"
     },
     "output_type": "display_data"
    }
   ],
   "source": [
    "plt.bar([1, 2], [positive, negative], tick_label = ['Positive', 'Negative'], width=0.5, color=['green', 'red'])\n",
    "plt.title('TextBlob: Értékelések hangulatának eloszlása')\n",
    "plt.show()"
   ]
  },
  {
   "cell_type": "code",
   "execution_count": null,
   "id": "a82fd688",
   "metadata": {},
   "outputs": [],
   "source": []
  }
 ],
 "metadata": {
  "kernelspec": {
   "display_name": "Python 3.8.8 ('base')",
   "language": "python",
   "name": "python3"
  },
  "language_info": {
   "codemirror_mode": {
    "name": "ipython",
    "version": 3
   },
   "file_extension": ".py",
   "mimetype": "text/x-python",
   "name": "python",
   "nbconvert_exporter": "python",
   "pygments_lexer": "ipython3",
   "version": "3.8.8"
  },
  "vscode": {
   "interpreter": {
    "hash": "ad2bdc8ecc057115af97d19610ffacc2b4e99fae6737bb82f5d7fb13d2f2c186"
   }
  }
 },
 "nbformat": 4,
 "nbformat_minor": 5
}
