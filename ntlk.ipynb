{
 "cells": [
  {
   "cell_type": "code",
   "execution_count": 1,
   "id": "710509f5",
   "metadata": {},
   "outputs": [
    {
     "data": {
      "text/html": [
       "<div>\n",
       "<style scoped>\n",
       "    .dataframe tbody tr th:only-of-type {\n",
       "        vertical-align: middle;\n",
       "    }\n",
       "\n",
       "    .dataframe tbody tr th {\n",
       "        vertical-align: top;\n",
       "    }\n",
       "\n",
       "    .dataframe thead th {\n",
       "        text-align: right;\n",
       "    }\n",
       "</style>\n",
       "<table border=\"1\" class=\"dataframe\">\n",
       "  <thead>\n",
       "    <tr style=\"text-align: right;\">\n",
       "      <th></th>\n",
       "      <th>Date</th>\n",
       "      <th>User</th>\n",
       "      <th>Tweet</th>\n",
       "      <th>clean_text</th>\n",
       "    </tr>\n",
       "  </thead>\n",
       "  <tbody>\n",
       "    <tr>\n",
       "      <th>0</th>\n",
       "      <td>2022-11-02 23:57:58</td>\n",
       "      <td>ColdPieceCITY</td>\n",
       "      <td>RT @ColdPieceCITY: Steph = Mount Rushmore ?\\n#...</td>\n",
       "      <td>steph mount rushmore</td>\n",
       "    </tr>\n",
       "    <tr>\n",
       "      <th>1</th>\n",
       "      <td>2022-11-02 23:56:40</td>\n",
       "      <td>HermanKosta</td>\n",
       "      <td>RT @warriors: #DubNation, just a reminder that...</td>\n",
       "      <td>reminder text warrior get ready vote</td>\n",
       "    </tr>\n",
       "    <tr>\n",
       "      <th>2</th>\n",
       "      <td>2022-11-02 23:56:28</td>\n",
       "      <td>ColdPieceCITY</td>\n",
       "      <td>RT @ColdPieceCITY: - Led Warriors to their fir...</td>\n",
       "      <td>lead warrior first championship year lead warr...</td>\n",
       "    </tr>\n",
       "    <tr>\n",
       "      <th>3</th>\n",
       "      <td>2022-11-02 23:55:59</td>\n",
       "      <td>Sethoole</td>\n",
       "      <td>RT @warriors_bra: 🏀 GOLDEN STATE WARRIORS | 20...</td>\n",
       "      <td>golden state warrior</td>\n",
       "    </tr>\n",
       "    <tr>\n",
       "      <th>4</th>\n",
       "      <td>2022-11-02 23:54:23</td>\n",
       "      <td>TravelingBeee</td>\n",
       "      <td>RT @TravelingBeee: We ok with Green leaving? #...</td>\n",
       "      <td>ok green leave</td>\n",
       "    </tr>\n",
       "  </tbody>\n",
       "</table>\n",
       "</div>"
      ],
      "text/plain": [
       "                 Date           User  \\\n",
       "0 2022-11-02 23:57:58  ColdPieceCITY   \n",
       "1 2022-11-02 23:56:40    HermanKosta   \n",
       "2 2022-11-02 23:56:28  ColdPieceCITY   \n",
       "3 2022-11-02 23:55:59       Sethoole   \n",
       "4 2022-11-02 23:54:23  TravelingBeee   \n",
       "\n",
       "                                               Tweet  \\\n",
       "0  RT @ColdPieceCITY: Steph = Mount Rushmore ?\\n#...   \n",
       "1  RT @warriors: #DubNation, just a reminder that...   \n",
       "2  RT @ColdPieceCITY: - Led Warriors to their fir...   \n",
       "3  RT @warriors_bra: 🏀 GOLDEN STATE WARRIORS | 20...   \n",
       "4  RT @TravelingBeee: We ok with Green leaving? #...   \n",
       "\n",
       "                                          clean_text  \n",
       "0                               steph mount rushmore  \n",
       "1               reminder text warrior get ready vote  \n",
       "2  lead warrior first championship year lead warr...  \n",
       "3                               golden state warrior  \n",
       "4                                     ok green leave  "
      ]
     },
     "execution_count": 1,
     "metadata": {},
     "output_type": "execute_result"
    }
   ],
   "source": [
    "import pandas as pd\n",
    "import numpy as np\n",
    "\n",
    "df = pd.read_json('DubNation_2022_11_03_10ktweet_cleaned.json')\n",
    "df.head()"
   ]
  },
  {
   "cell_type": "code",
   "execution_count": 2,
   "id": "976413a5",
   "metadata": {},
   "outputs": [],
   "source": [
    "from nltk.sentiment import SentimentIntensityAnalyzer\n",
    "\n",
    "sia = SentimentIntensityAnalyzer()\n",
    "\n",
    "df[\"sentiment_score\"] = df[\"clean_text\"].apply(lambda x: sia.polarity_scores(x)[\"compound\"])\n",
    "df[\"sentiment\"] = np.select([df[\"sentiment_score\"] < 0, df[\"sentiment_score\"] == 0, df[\"sentiment_score\"] > 0],\n",
    "                           ['negative', 'neutral', 'positive'])"
   ]
  },
  {
   "cell_type": "code",
   "execution_count": 3,
   "id": "5d38d748",
   "metadata": {},
   "outputs": [
    {
     "name": "stdout",
     "output_type": "stream",
     "text": [
      "Pozitív hangulatú mondatok száma:  3888\n",
      "Negatív hangulatú mondatok száma:  1399\n",
      "Neutrális hangulatú mondatok száma:  4713\n"
     ]
    }
   ],
   "source": [
    "positive = df[df['sentiment'] == 'positive'].shape[0]\n",
    "negative = df[df['sentiment'] == 'negative'].shape[0]\n",
    "neutral = df[df['sentiment'] == 'neutral'].shape[0]\n",
    "\n",
    "print('Pozitív hangulatú mondatok száma: ', positive)\n",
    "print('Negatív hangulatú mondatok száma: ', negative)\n",
    "print('Neutrális hangulatú mondatok száma: ', neutral)"
   ]
  },
  {
   "cell_type": "code",
   "execution_count": 4,
   "id": "9e6e3ddb",
   "metadata": {},
   "outputs": [
    {
     "data": {
      "image/png": "[encoded data removed]",
      "text/plain": [
       "<Figure size 432x288 with 1 Axes>"
      ]
     },
     "metadata": {},
     "output_type": "display_data"
    }
   ],
   "source": [
    "import matplotlib.pyplot as plt\n",
    "\n",
    "ratings = ['positive', 'negative', 'neutral']\n",
    "slices = [positive, negative, neutral]\n",
    "colors = ['green', 'red', 'yellow']\n",
    "\n",
    "plt.pie(slices, labels=ratings, colors=colors, shadow=True, autopct='%1.1f%%')\n",
    "plt.legend(loc='lower left')\n",
    "plt.show()"
   ]
  },
  {
   "cell_type": "code",
   "execution_count": 5,
   "id": "0d37fc66",
   "metadata": {},
   "outputs": [
    {
     "data": {
      "image/png": "[encoded data removed]",
      "text/plain": [
       "<Figure size 432x288 with 1 Axes>"
      ]
     },
     "metadata": {
      "needs_background": "light"
     },
     "output_type": "display_data"
    }
   ],
   "source": [
    "plt.bar([1, 2, 3], [positive, neutral, negative], tick_label = ['Positive', 'Neutral', 'Negative'], width=0.5, color=['green', 'yellow', 'red'])\n",
    "plt.title('Nltk: Értékelések hangulatának eloszlása')\n",
    "plt.show()"
   ]
  },
  {
   "cell_type": "code",
   "execution_count": 6,
   "id": "72088d8b",
   "metadata": {},
   "outputs": [
    {
     "data": {
      "image/png": "[encoded data removed]",
      "text/plain": [
       "<Figure size 432x288 with 1 Axes>"
      ]
     },
     "metadata": {},
     "output_type": "display_data"
    }
   ],
   "source": [
    "ratings = ['positive', 'negative']\n",
    "slices = [positive, negative]\n",
    "colors = ['green', 'red']\n",
    "\n",
    "plt.pie(slices, labels=ratings, colors=colors, shadow=True, autopct='%1.1f%%')\n",
    "plt.legend(loc='lower left')\n",
    "plt.show()"
   ]
  },
  {
   "cell_type": "code",
   "execution_count": 7,
   "id": "2b5b0e6e",
   "metadata": {},
   "outputs": [
    {
     "data": {
      "image/png": "[encoded data removed]",
      "text/plain": [
       "<Figure size 432x288 with 1 Axes>"
      ]
     },
     "metadata": {
      "needs_background": "light"
     },
     "output_type": "display_data"
    }
   ],
   "source": [
    "plt.bar([1, 2], [positive, negative], tick_label = ['Positive', 'Negative'], width=0.5, color=['green', 'red'])\n",
    "plt.title('Nltk: Értékelések hangulatának eloszlása')\n",
    "plt.show()"
   ]
  },
  {
   "cell_type": "code",
   "execution_count": null,
   "id": "d4f68f8a",
   "metadata": {},
   "outputs": [],
   "source": []
  }
 ],
 "metadata": {
  "kernelspec": {
   "display_name": "Python 3.8.8 ('base')",
   "language": "python",
   "name": "python3"
  },
  "language_info": {
   "codemirror_mode": {
    "name": "ipython",
    "version": 3
   },
   "file_extension": ".py",
   "mimetype": "text/x-python",
   "name": "python",
   "nbconvert_exporter": "python",
   "pygments_lexer": "ipython3",
   "version": "3.8.8"
  },
  "vscode": {
   "interpreter": {
    "hash": "ad2bdc8ecc057115af97d19610ffacc2b4e99fae6737bb82f5d7fb13d2f2c186"
   }
  }
 },
 "nbformat": 4,
 "nbformat_minor": 5
}
